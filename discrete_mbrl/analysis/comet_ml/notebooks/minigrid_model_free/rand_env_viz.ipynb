{
 "cells": [
  {
   "cell_type": "code",
   "execution_count": 35,
   "metadata": {},
   "outputs": [],
   "source": [
    "import os\n",
    "import sys\n",
    "sys.path.append(os.path.abspath('../../../..'))\n",
    "\n",
    "import matplotlib.pyplot as plt\n",
    "import numpy as np\n",
    "\n",
    "from env_helpers import make_env\n",
    "\n",
    "%matplotlib inline"
   ]
  },
  {
   "cell_type": "code",
   "execution_count": 41,
   "metadata": {},
   "outputs": [],
   "source": [
    "figure_dir = 'start_states/'\n",
    "os.makedirs(figure_dir, exist_ok=True)\n",
    "\n",
    "for name, env_name in [('crossing', 'minigrid-crossing-stochastic-rand'), ('door_key', 'minigrid-door-key-stochastic-rand')]:\n",
    "  start_obs_list = []\n",
    "  for _ in range(6):\n",
    "    env = make_env(env_name)\n",
    "    start_obs_list.append(env.reset())\n",
    "  \n",
    "  row_img = np.concatenate(start_obs_list, axis=2)\n",
    "  row_img = row_img.transpose(1, 2, 0)\n",
    "  plt.imsave(figure_dir + name + '_start_states.png', row_img)"
   ]
  }
 ],
 "metadata": {
  "kernelspec": {
   "display_name": "base",
   "language": "python",
   "name": "python3"
  },
  "language_info": {
   "codemirror_mode": {
    "name": "ipython",
    "version": 3
   },
   "file_extension": ".py",
   "mimetype": "text/x-python",
   "name": "python",
   "nbconvert_exporter": "python",
   "pygments_lexer": "ipython3",
   "version": "3.9.12"
  },
  "orig_nbformat": 4
 },
 "nbformat": 4,
 "nbformat_minor": 2
}
